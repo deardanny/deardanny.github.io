{
  "nbformat": 4,
  "nbformat_minor": 0,
  "metadata": {
    "colab": {
      "name": "(2차제출) n122-chi-square-test.ipynb",
      "provenance": [],
      "collapsed_sections": [
        "rQf3dSuc5PqO"
      ],
      "include_colab_link": true
    },
    "kernelspec": {
      "display_name": "Python 3",
      "language": "python",
      "name": "python3"
    },
    "language_info": {
      "codemirror_mode": {
        "name": "ipython",
        "version": 3
      },
      "file_extension": ".py",
      "mimetype": "text/x-python",
      "name": "python",
      "nbconvert_exporter": "python",
      "pygments_lexer": "ipython3",
      "version": "3.8.2"
    }
  },
  "cells": [
    {
      "cell_type": "markdown",
      "metadata": {
        "id": "view-in-github",
        "colab_type": "text"
      },
      "source": [
        "<a href=\"https://colab.research.google.com/github/deardanny/deardanny.github.io/blob/main/n122_chi_square_test.ipynb\" target=\"_parent\"><img src=\"https://colab.research.google.com/assets/colab-badge.svg\" alt=\"Open In Colab\"/></a>"
      ]
    },
    {
      "cell_type": "markdown",
      "metadata": {
        "id": "rQf3dSuc5PqO"
      },
      "source": [
        "<img src='https://i.imgur.com/RDAD11M.png' width = '200' align = 'right'>\n",
        "\n",
        "## *DATA SCIENCE / SECTION 1 / SPRINT 2 / NOTE 2*\n",
        "\n",
        "# 📝 Assignment"
      ]
    },
    {
      "cell_type": "markdown",
      "metadata": {
        "id": "BIs0pyf-K4Pv"
      },
      "source": [
        "# 카이제곱검정"
      ]
    },
    {
      "cell_type": "markdown",
      "metadata": {
        "id": "11OzdxWTM7UR"
      },
      "source": [
        "\n",
        "## 1. 공공데이터 조작 연습. \n",
        "\n",
        "국가 통계 포털에서 아래 이미지를 참조하여\n",
        "\n",
        "<https://kosis.kr/statisticsList/statisticsListIndex.do?menuId=M_01_01&vwcd=MT_ZTITLE&parmTabId=M_01_01#SelectStatsBoxDiv>\n",
        "\n",
        "**2020년 8월**에 해당하는 규모별 미분양현황 에 대한 데이터셋을 생성하세요. \n",
        "\n",
        "<img src='https://i.imgur.com/aZc4UJO.png' width = 500>\n",
        "\n",
        "- `60m이하`, `60~85m`, `85m초과`의 3개 규모와 (column)\n",
        "- `서울`, `대전`, `대구`, `부산` 4개의 지역을 포함해야합니다. (row)\n",
        "- 데이터가 없는 경우는 0으로 처리하세요.\n",
        "\n",
        "이후 데이터셋을 colab으로 불러오세요. 이때 변수의 이름은 `df`를 사용합니다.\n"
      ]
    },
    {
      "cell_type": "code",
      "metadata": {
        "id": "IhWdLFndyVAB"
      },
      "source": [
        "col = ['~60m2', '60~85m2', '85m2~']\n",
        "row = ['서울', '대전', '대구', '부산']"
      ],
      "execution_count": 69,
      "outputs": []
    },
    {
      "cell_type": "code",
      "metadata": {
        "id": "W3SH-iHqQ47m"
      },
      "source": [
        "import pandas as pd\n",
        "import numpy as np\n",
        "import io\n"
      ],
      "execution_count": 70,
      "outputs": []
    },
    {
      "cell_type": "code",
      "metadata": {
        "id": "HAUWKl0_Rz3C",
        "colab": {
          "resources": {
            "http://localhost:8080/nbextensions/google.colab/files.js": {
              "data": "Ly8gQ29weXJpZ2h0IDIwMTcgR29vZ2xlIExMQwovLwovLyBMaWNlbnNlZCB1bmRlciB0aGUgQXBhY2hlIExpY2Vuc2UsIFZlcnNpb24gMi4wICh0aGUgIkxpY2Vuc2UiKTsKLy8geW91IG1heSBub3QgdXNlIHRoaXMgZmlsZSBleGNlcHQgaW4gY29tcGxpYW5jZSB3aXRoIHRoZSBMaWNlbnNlLgovLyBZb3UgbWF5IG9idGFpbiBhIGNvcHkgb2YgdGhlIExpY2Vuc2UgYXQKLy8KLy8gICAgICBodHRwOi8vd3d3LmFwYWNoZS5vcmcvbGljZW5zZXMvTElDRU5TRS0yLjAKLy8KLy8gVW5sZXNzIHJlcXVpcmVkIGJ5IGFwcGxpY2FibGUgbGF3IG9yIGFncmVlZCB0byBpbiB3cml0aW5nLCBzb2Z0d2FyZQovLyBkaXN0cmlidXRlZCB1bmRlciB0aGUgTGljZW5zZSBpcyBkaXN0cmlidXRlZCBvbiBhbiAiQVMgSVMiIEJBU0lTLAovLyBXSVRIT1VUIFdBUlJBTlRJRVMgT1IgQ09ORElUSU9OUyBPRiBBTlkgS0lORCwgZWl0aGVyIGV4cHJlc3Mgb3IgaW1wbGllZC4KLy8gU2VlIHRoZSBMaWNlbnNlIGZvciB0aGUgc3BlY2lmaWMgbGFuZ3VhZ2UgZ292ZXJuaW5nIHBlcm1pc3Npb25zIGFuZAovLyBsaW1pdGF0aW9ucyB1bmRlciB0aGUgTGljZW5zZS4KCi8qKgogKiBAZmlsZW92ZXJ2aWV3IEhlbHBlcnMgZm9yIGdvb2dsZS5jb2xhYiBQeXRob24gbW9kdWxlLgogKi8KKGZ1bmN0aW9uKHNjb3BlKSB7CmZ1bmN0aW9uIHNwYW4odGV4dCwgc3R5bGVBdHRyaWJ1dGVzID0ge30pIHsKICBjb25zdCBlbGVtZW50ID0gZG9jdW1lbnQuY3JlYXRlRWxlbWVudCgnc3BhbicpOwogIGVsZW1lbnQudGV4dENvbnRlbnQgPSB0ZXh0OwogIGZvciAoY29uc3Qga2V5IG9mIE9iamVjdC5rZXlzKHN0eWxlQXR0cmlidXRlcykpIHsKICAgIGVsZW1lbnQuc3R5bGVba2V5XSA9IHN0eWxlQXR0cmlidXRlc1trZXldOwogIH0KICByZXR1cm4gZWxlbWVudDsKfQoKLy8gTWF4IG51bWJlciBvZiBieXRlcyB3aGljaCB3aWxsIGJlIHVwbG9hZGVkIGF0IGEgdGltZS4KY29uc3QgTUFYX1BBWUxPQURfU0laRSA9IDEwMCAqIDEwMjQ7CgpmdW5jdGlvbiBfdXBsb2FkRmlsZXMoaW5wdXRJZCwgb3V0cHV0SWQpIHsKICBjb25zdCBzdGVwcyA9IHVwbG9hZEZpbGVzU3RlcChpbnB1dElkLCBvdXRwdXRJZCk7CiAgY29uc3Qgb3V0cHV0RWxlbWVudCA9IGRvY3VtZW50LmdldEVsZW1lbnRCeUlkKG91dHB1dElkKTsKICAvLyBDYWNoZSBzdGVwcyBvbiB0aGUgb3V0cHV0RWxlbWVudCB0byBtYWtlIGl0IGF2YWlsYWJsZSBmb3IgdGhlIG5leHQgY2FsbAogIC8vIHRvIHVwbG9hZEZpbGVzQ29udGludWUgZnJvbSBQeXRob24uCiAgb3V0cHV0RWxlbWVudC5zdGVwcyA9IHN0ZXBzOwoKICByZXR1cm4gX3VwbG9hZEZpbGVzQ29udGludWUob3V0cHV0SWQpOwp9CgovLyBUaGlzIGlzIHJvdWdobHkgYW4gYXN5bmMgZ2VuZXJhdG9yIChub3Qgc3VwcG9ydGVkIGluIHRoZSBicm93c2VyIHlldCksCi8vIHdoZXJlIHRoZXJlIGFyZSBtdWx0aXBsZSBhc3luY2hyb25vdXMgc3RlcHMgYW5kIHRoZSBQeXRob24gc2lkZSBpcyBnb2luZwovLyB0byBwb2xsIGZvciBjb21wbGV0aW9uIG9mIGVhY2ggc3RlcC4KLy8gVGhpcyB1c2VzIGEgUHJvbWlzZSB0byBibG9jayB0aGUgcHl0aG9uIHNpZGUgb24gY29tcGxldGlvbiBvZiBlYWNoIHN0ZXAsCi8vIHRoZW4gcGFzc2VzIHRoZSByZXN1bHQgb2YgdGhlIHByZXZpb3VzIHN0ZXAgYXMgdGhlIGlucHV0IHRvIHRoZSBuZXh0IHN0ZXAuCmZ1bmN0aW9uIF91cGxvYWRGaWxlc0NvbnRpbnVlKG91dHB1dElkKSB7CiAgY29uc3Qgb3V0cHV0RWxlbWVudCA9IGRvY3VtZW50LmdldEVsZW1lbnRCeUlkKG91dHB1dElkKTsKICBjb25zdCBzdGVwcyA9IG91dHB1dEVsZW1lbnQuc3RlcHM7CgogIGNvbnN0IG5leHQgPSBzdGVwcy5uZXh0KG91dHB1dEVsZW1lbnQubGFzdFByb21pc2VWYWx1ZSk7CiAgcmV0dXJuIFByb21pc2UucmVzb2x2ZShuZXh0LnZhbHVlLnByb21pc2UpLnRoZW4oKHZhbHVlKSA9PiB7CiAgICAvLyBDYWNoZSB0aGUgbGFzdCBwcm9taXNlIHZhbHVlIHRvIG1ha2UgaXQgYXZhaWxhYmxlIHRvIHRoZSBuZXh0CiAgICAvLyBzdGVwIG9mIHRoZSBnZW5lcmF0b3IuCiAgICBvdXRwdXRFbGVtZW50Lmxhc3RQcm9taXNlVmFsdWUgPSB2YWx1ZTsKICAgIHJldHVybiBuZXh0LnZhbHVlLnJlc3BvbnNlOwogIH0pOwp9CgovKioKICogR2VuZXJhdG9yIGZ1bmN0aW9uIHdoaWNoIGlzIGNhbGxlZCBiZXR3ZWVuIGVhY2ggYXN5bmMgc3RlcCBvZiB0aGUgdXBsb2FkCiAqIHByb2Nlc3MuCiAqIEBwYXJhbSB7c3RyaW5nfSBpbnB1dElkIEVsZW1lbnQgSUQgb2YgdGhlIGlucHV0IGZpbGUgcGlja2VyIGVsZW1lbnQuCiAqIEBwYXJhbSB7c3RyaW5nfSBvdXRwdXRJZCBFbGVtZW50IElEIG9mIHRoZSBvdXRwdXQgZGlzcGxheS4KICogQHJldHVybiB7IUl0ZXJhYmxlPCFPYmplY3Q+fSBJdGVyYWJsZSBvZiBuZXh0IHN0ZXBzLgogKi8KZnVuY3Rpb24qIHVwbG9hZEZpbGVzU3RlcChpbnB1dElkLCBvdXRwdXRJZCkgewogIGNvbnN0IGlucHV0RWxlbWVudCA9IGRvY3VtZW50LmdldEVsZW1lbnRCeUlkKGlucHV0SWQpOwogIGlucHV0RWxlbWVudC5kaXNhYmxlZCA9IGZhbHNlOwoKICBjb25zdCBvdXRwdXRFbGVtZW50ID0gZG9jdW1lbnQuZ2V0RWxlbWVudEJ5SWQob3V0cHV0SWQpOwogIG91dHB1dEVsZW1lbnQuaW5uZXJIVE1MID0gJyc7CgogIGNvbnN0IHBpY2tlZFByb21pc2UgPSBuZXcgUHJvbWlzZSgocmVzb2x2ZSkgPT4gewogICAgaW5wdXRFbGVtZW50LmFkZEV2ZW50TGlzdGVuZXIoJ2NoYW5nZScsIChlKSA9PiB7CiAgICAgIHJlc29sdmUoZS50YXJnZXQuZmlsZXMpOwogICAgfSk7CiAgfSk7CgogIGNvbnN0IGNhbmNlbCA9IGRvY3VtZW50LmNyZWF0ZUVsZW1lbnQoJ2J1dHRvbicpOwogIGlucHV0RWxlbWVudC5wYXJlbnRFbGVtZW50LmFwcGVuZENoaWxkKGNhbmNlbCk7CiAgY2FuY2VsLnRleHRDb250ZW50ID0gJ0NhbmNlbCB1cGxvYWQnOwogIGNvbnN0IGNhbmNlbFByb21pc2UgPSBuZXcgUHJvbWlzZSgocmVzb2x2ZSkgPT4gewogICAgY2FuY2VsLm9uY2xpY2sgPSAoKSA9PiB7CiAgICAgIHJlc29sdmUobnVsbCk7CiAgICB9OwogIH0pOwoKICAvLyBXYWl0IGZvciB0aGUgdXNlciB0byBwaWNrIHRoZSBmaWxlcy4KICBjb25zdCBmaWxlcyA9IHlpZWxkIHsKICAgIHByb21pc2U6IFByb21pc2UucmFjZShbcGlja2VkUHJvbWlzZSwgY2FuY2VsUHJvbWlzZV0pLAogICAgcmVzcG9uc2U6IHsKICAgICAgYWN0aW9uOiAnc3RhcnRpbmcnLAogICAgfQogIH07CgogIGNhbmNlbC5yZW1vdmUoKTsKCiAgLy8gRGlzYWJsZSB0aGUgaW5wdXQgZWxlbWVudCBzaW5jZSBmdXJ0aGVyIHBpY2tzIGFyZSBub3QgYWxsb3dlZC4KICBpbnB1dEVsZW1lbnQuZGlzYWJsZWQgPSB0cnVlOwoKICBpZiAoIWZpbGVzKSB7CiAgICByZXR1cm4gewogICAgICByZXNwb25zZTogewogICAgICAgIGFjdGlvbjogJ2NvbXBsZXRlJywKICAgICAgfQogICAgfTsKICB9CgogIGZvciAoY29uc3QgZmlsZSBvZiBmaWxlcykgewogICAgY29uc3QgbGkgPSBkb2N1bWVudC5jcmVhdGVFbGVtZW50KCdsaScpOwogICAgbGkuYXBwZW5kKHNwYW4oZmlsZS5uYW1lLCB7Zm9udFdlaWdodDogJ2JvbGQnfSkpOwogICAgbGkuYXBwZW5kKHNwYW4oCiAgICAgICAgYCgke2ZpbGUudHlwZSB8fCAnbi9hJ30pIC0gJHtmaWxlLnNpemV9IGJ5dGVzLCBgICsKICAgICAgICBgbGFzdCBtb2RpZmllZDogJHsKICAgICAgICAgICAgZmlsZS5sYXN0TW9kaWZpZWREYXRlID8gZmlsZS5sYXN0TW9kaWZpZWREYXRlLnRvTG9jYWxlRGF0ZVN0cmluZygpIDoKICAgICAgICAgICAgICAgICAgICAgICAgICAgICAgICAgICAgJ24vYSd9IC0gYCkpOwogICAgY29uc3QgcGVyY2VudCA9IHNwYW4oJzAlIGRvbmUnKTsKICAgIGxpLmFwcGVuZENoaWxkKHBlcmNlbnQpOwoKICAgIG91dHB1dEVsZW1lbnQuYXBwZW5kQ2hpbGQobGkpOwoKICAgIGNvbnN0IGZpbGVEYXRhUHJvbWlzZSA9IG5ldyBQcm9taXNlKChyZXNvbHZlKSA9PiB7CiAgICAgIGNvbnN0IHJlYWRlciA9IG5ldyBGaWxlUmVhZGVyKCk7CiAgICAgIHJlYWRlci5vbmxvYWQgPSAoZSkgPT4gewogICAgICAgIHJlc29sdmUoZS50YXJnZXQucmVzdWx0KTsKICAgICAgfTsKICAgICAgcmVhZGVyLnJlYWRBc0FycmF5QnVmZmVyKGZpbGUpOwogICAgfSk7CiAgICAvLyBXYWl0IGZvciB0aGUgZGF0YSB0byBiZSByZWFkeS4KICAgIGxldCBmaWxlRGF0YSA9IHlpZWxkIHsKICAgICAgcHJvbWlzZTogZmlsZURhdGFQcm9taXNlLAogICAgICByZXNwb25zZTogewogICAgICAgIGFjdGlvbjogJ2NvbnRpbnVlJywKICAgICAgfQogICAgfTsKCiAgICAvLyBVc2UgYSBjaHVua2VkIHNlbmRpbmcgdG8gYXZvaWQgbWVzc2FnZSBzaXplIGxpbWl0cy4gU2VlIGIvNjIxMTU2NjAuCiAgICBsZXQgcG9zaXRpb24gPSAwOwogICAgd2hpbGUgKHBvc2l0aW9uIDwgZmlsZURhdGEuYnl0ZUxlbmd0aCkgewogICAgICBjb25zdCBsZW5ndGggPSBNYXRoLm1pbihmaWxlRGF0YS5ieXRlTGVuZ3RoIC0gcG9zaXRpb24sIE1BWF9QQVlMT0FEX1NJWkUpOwogICAgICBjb25zdCBjaHVuayA9IG5ldyBVaW50OEFycmF5KGZpbGVEYXRhLCBwb3NpdGlvbiwgbGVuZ3RoKTsKICAgICAgcG9zaXRpb24gKz0gbGVuZ3RoOwoKICAgICAgY29uc3QgYmFzZTY0ID0gYnRvYShTdHJpbmcuZnJvbUNoYXJDb2RlLmFwcGx5KG51bGwsIGNodW5rKSk7CiAgICAgIHlpZWxkIHsKICAgICAgICByZXNwb25zZTogewogICAgICAgICAgYWN0aW9uOiAnYXBwZW5kJywKICAgICAgICAgIGZpbGU6IGZpbGUubmFtZSwKICAgICAgICAgIGRhdGE6IGJhc2U2NCwKICAgICAgICB9LAogICAgICB9OwogICAgICBwZXJjZW50LnRleHRDb250ZW50ID0KICAgICAgICAgIGAke01hdGgucm91bmQoKHBvc2l0aW9uIC8gZmlsZURhdGEuYnl0ZUxlbmd0aCkgKiAxMDApfSUgZG9uZWA7CiAgICB9CiAgfQoKICAvLyBBbGwgZG9uZS4KICB5aWVsZCB7CiAgICByZXNwb25zZTogewogICAgICBhY3Rpb246ICdjb21wbGV0ZScsCiAgICB9CiAgfTsKfQoKc2NvcGUuZ29vZ2xlID0gc2NvcGUuZ29vZ2xlIHx8IHt9OwpzY29wZS5nb29nbGUuY29sYWIgPSBzY29wZS5nb29nbGUuY29sYWIgfHwge307CnNjb3BlLmdvb2dsZS5jb2xhYi5fZmlsZXMgPSB7CiAgX3VwbG9hZEZpbGVzLAogIF91cGxvYWRGaWxlc0NvbnRpbnVlLAp9Owp9KShzZWxmKTsK",
              "ok": true,
              "headers": [
                [
                  "content-type",
                  "application/javascript"
                ]
              ],
              "status": 200,
              "status_text": ""
            }
          },
          "base_uri": "https://localhost:8080/",
          "height": 72
        },
        "outputId": "83e58578-3d40-43eb-96d9-2c3f9ec77a7e"
      },
      "source": [
        "from google.colab import files\n",
        "myfile = files.upload()"
      ],
      "execution_count": 7,
      "outputs": [
        {
          "output_type": "display_data",
          "data": {
            "text/html": [
              "\n",
              "     <input type=\"file\" id=\"files-fb49eeb1-abc1-45a6-8a51-7749a2311f89\" name=\"files[]\" multiple disabled\n",
              "        style=\"border:none\" />\n",
              "     <output id=\"result-fb49eeb1-abc1-45a6-8a51-7749a2311f89\">\n",
              "      Upload widget is only available when the cell has been executed in the\n",
              "      current browser session. Please rerun this cell to enable.\n",
              "      </output>\n",
              "      <script src=\"/nbextensions/google.colab/files.js\"></script> "
            ],
            "text/plain": [
              "<IPython.core.display.HTML object>"
            ]
          },
          "metadata": {
            "tags": []
          }
        },
        {
          "output_type": "stream",
          "text": [
            "Saving 규모별_미분양현황.csv to 규모별_미분양현황.csv\n"
          ],
          "name": "stdout"
        }
      ]
    },
    {
      "cell_type": "code",
      "metadata": {
        "id": "QjWQvzLnUVUA"
      },
      "source": [
        "# 파일 확인 코드\n",
        "# !ls -al\n",
        "# 파일 삭제 코드\n",
        "# !rm 규모별_미분양현황.numbers"
      ],
      "execution_count": 3,
      "outputs": []
    },
    {
      "cell_type": "code",
      "metadata": {
        "id": "yy27hsEHZ8oO"
      },
      "source": [
        "def toInt(string):\n",
        "    return int(string.replace(',',''))"
      ],
      "execution_count": 71,
      "outputs": []
    },
    {
      "cell_type": "code",
      "metadata": {
        "id": "T6g5IassQuz2",
        "colab": {
          "base_uri": "https://localhost:8080/",
          "height": 173
        },
        "outputId": "6ccf5aa3-7ab5-489c-e0a5-11f1f1de7536"
      },
      "source": [
        "df = pd.read_csv(io.BytesIO(myfile['규모별_미분양현황.csv']), encoding='utf8')\n",
        "df\n",
        "\n",
        "# df 정리하기\n",
        "df = df.iloc[1:, 1:]\n",
        "df.columns = ['', '-60(공공)', '60-85(공공)', '85-(공공)', '-60(민간)', '60-85(민간)', '85-(민간)']\n",
        "\n",
        "# 수치형 데이터로 바꾸기\n",
        "df['-60(공공)'] = df['-60(공공)'].apply(toInt)\n",
        "df['60-85(공공)'] = df['60-85(공공)'].apply(toInt)\n",
        "df['85-(공공)'] = df['85-(공공)'].apply(toInt)\n",
        "df['-60(민간)'] = df['-60(민간)'].apply(toInt)\n",
        "df['60-85(민간)'] = df['60-85(민간)'].apply(toInt)\n",
        "df['85-(민간)'] = df['85-(민간)'].apply(toInt)\n",
        "df\n"
      ],
      "execution_count": 72,
      "outputs": [
        {
          "output_type": "execute_result",
          "data": {
            "text/html": [
              "<div>\n",
              "<style scoped>\n",
              "    .dataframe tbody tr th:only-of-type {\n",
              "        vertical-align: middle;\n",
              "    }\n",
              "\n",
              "    .dataframe tbody tr th {\n",
              "        vertical-align: top;\n",
              "    }\n",
              "\n",
              "    .dataframe thead th {\n",
              "        text-align: right;\n",
              "    }\n",
              "</style>\n",
              "<table border=\"1\" class=\"dataframe\">\n",
              "  <thead>\n",
              "    <tr style=\"text-align: right;\">\n",
              "      <th></th>\n",
              "      <th></th>\n",
              "      <th>-60(공공)</th>\n",
              "      <th>60-85(공공)</th>\n",
              "      <th>85-(공공)</th>\n",
              "      <th>-60(민간)</th>\n",
              "      <th>60-85(민간)</th>\n",
              "      <th>85-(민간)</th>\n",
              "    </tr>\n",
              "  </thead>\n",
              "  <tbody>\n",
              "    <tr>\n",
              "      <th>1</th>\n",
              "      <td>서울</td>\n",
              "      <td>0</td>\n",
              "      <td>0</td>\n",
              "      <td>0</td>\n",
              "      <td>54</td>\n",
              "      <td>2</td>\n",
              "      <td>0</td>\n",
              "    </tr>\n",
              "    <tr>\n",
              "      <th>2</th>\n",
              "      <td>부산</td>\n",
              "      <td>0</td>\n",
              "      <td>0</td>\n",
              "      <td>0</td>\n",
              "      <td>577</td>\n",
              "      <td>735</td>\n",
              "      <td>142</td>\n",
              "    </tr>\n",
              "    <tr>\n",
              "      <th>3</th>\n",
              "      <td>대구</td>\n",
              "      <td>0</td>\n",
              "      <td>0</td>\n",
              "      <td>0</td>\n",
              "      <td>143</td>\n",
              "      <td>1437</td>\n",
              "      <td>44</td>\n",
              "    </tr>\n",
              "    <tr>\n",
              "      <th>4</th>\n",
              "      <td>대전</td>\n",
              "      <td>0</td>\n",
              "      <td>0</td>\n",
              "      <td>0</td>\n",
              "      <td>782</td>\n",
              "      <td>1</td>\n",
              "      <td>0</td>\n",
              "    </tr>\n",
              "  </tbody>\n",
              "</table>\n",
              "</div>"
            ],
            "text/plain": [
              "       -60(공공)  60-85(공공)  85-(공공)  -60(민간)  60-85(민간)  85-(민간)\n",
              "1  서울        0          0        0       54          2        0\n",
              "2  부산        0          0        0      577        735      142\n",
              "3  대구        0          0        0      143       1437       44\n",
              "4  대전        0          0        0      782          1        0"
            ]
          },
          "metadata": {
            "tags": []
          },
          "execution_count": 72
        }
      ]
    },
    {
      "cell_type": "markdown",
      "metadata": {
        "id": "RXPZZuAi3ccI"
      },
      "source": [
        "## 2. 지역에 대해서 one-sample chi-square test를 실행, 해당 결과를 `chi1`에 저장 후 설명해보세요.\n",
        "\n",
        "예시) 만약 **9월달 데이터**를 기준으로 한다면\n",
        "```python\n",
        " [0+0+0+52+2+0, 0+0+0+590+665+142, 0+0+0+113+1061+42, 0+0+0+772+1+0]\n",
        "```\n",
        "을 비교 하게 될 것입니다.\n",
        "\n",
        "\n"
      ]
    },
    {
      "cell_type": "code",
      "metadata": {
        "id": "oIMzAkXks-Sv",
        "colab": {
          "base_uri": "https://localhost:8080/"
        },
        "outputId": "c02dbbb9-9bd7-407b-fd2f-ecc91e6043cd"
      },
      "source": [
        "# 행 별 추출\n",
        "seoul = df.iloc[0, 1:]\n",
        "pusan = df.iloc[1, 1:]\n",
        "daegu = df.iloc[2, 1:]\n",
        "daejeon = df.iloc[3, 1:]\n",
        "\n",
        "# 각 데이터를 citysample 변수에 저장하기\n",
        "citysample = [seoul.sum(), pusan.sum(), daegu.sum(), daejeon.sum()]\n",
        "citysample"
      ],
      "execution_count": 73,
      "outputs": [
        {
          "output_type": "execute_result",
          "data": {
            "text/plain": [
              "[56, 1454, 1624, 783]"
            ]
          },
          "metadata": {
            "tags": []
          },
          "execution_count": 73
        }
      ]
    },
    {
      "cell_type": "code",
      "metadata": {
        "id": "kJKSIMuHsQNC"
      },
      "source": [
        "# 참고용\n",
        "# # Kruskal-Wallis Test (비모수적 평균 비교법) \n",
        "# from scipy.stats import kruskal\n",
        "\n",
        "# kruskal(seoul, pusan, daegu, daejeon)\n",
        "# # p-value: 0.7098"
      ],
      "execution_count": 74,
      "outputs": []
    },
    {
      "cell_type": "code",
      "metadata": {
        "id": "9hDPQkbMceOc",
        "colab": {
          "base_uri": "https://localhost:8080/"
        },
        "outputId": "bd2bbff9-474a-49a7-b35c-4ea0f8aea774"
      },
      "source": [
        "# one sample chi square test 실행\n",
        "\n",
        "from scipy import stats\n",
        "from scipy.stats import normaltest\n",
        "from scipy.stats import chisquare\n",
        "\n",
        "chi1 = chisquare(citysample, axis=None)\n",
        "chi1\n",
        "# p-value = 0\n",
        "# 귀무가설: 지역에 대해 미분양 개수가 지역 별로 차이가 없다.\n",
        "# 대립가설: 미분양 개수가 지역별로 차이가 있다.\n",
        "# p-value가 0.05보다 작으면 귀무가설을 지지하는 정도야 약해진다.\n",
        "# 결론: 미분양 개수는 지역별로 차이가 있다."
      ],
      "execution_count": 75,
      "outputs": [
        {
          "output_type": "execute_result",
          "data": {
            "text/plain": [
              "Power_divergenceResult(statistic=1564.4572376818994, pvalue=0.0)"
            ]
          },
          "metadata": {
            "tags": []
          },
          "execution_count": 75
        }
      ]
    },
    {
      "cell_type": "markdown",
      "metadata": {
        "id": "eMDtugVNRu0q"
      },
      "source": [
        "## 3. 지역과 규모에 대해서 two-sample chi-square test를 실행, 해당 결과를 `chi2`에 저장 후 설명해보세요.\n",
        "\n",
        "예시) **9월달 데이터**를 기준으로 한다면\n",
        "\n",
        "| |-60 | 60-85 | 85- |\n",
        "|:-:|:-:|:-:|:-:|\n",
        "|서울|52|2|0|\n",
        "|대전|772|1|0|\n",
        "|대구|113|1061|42|\n",
        "|부산|590|665|142|\n",
        "\n",
        "에 대해서 검정해야 할 겁니다.\n",
        "\n",
        "\n"
      ]
    },
    {
      "cell_type": "code",
      "metadata": {
        "id": "Ckcr4A4FM7cs",
        "colab": {
          "base_uri": "https://localhost:8080/",
          "height": 173
        },
        "outputId": "5cb4db9b-8115-4dbb-cdb2-0d02787d29a4"
      },
      "source": [
        "# df 다시 정리\n",
        "df2 = df.copy()\n",
        "\n",
        "# 공공부문 삭제\n",
        "df2 = df2.drop(['-60(공공)',\t'60-85(공공)',\t'85-(공공)'], 1) #axis는 1일때 세로축 삭제 0일때 가로축 삭제\n",
        "\n",
        "#새로운 컬럼명 부여\n",
        "df2.columns = ['', '-60', '60-85', '85-']\n",
        "\n",
        "df2"
      ],
      "execution_count": 76,
      "outputs": [
        {
          "output_type": "execute_result",
          "data": {
            "text/html": [
              "<div>\n",
              "<style scoped>\n",
              "    .dataframe tbody tr th:only-of-type {\n",
              "        vertical-align: middle;\n",
              "    }\n",
              "\n",
              "    .dataframe tbody tr th {\n",
              "        vertical-align: top;\n",
              "    }\n",
              "\n",
              "    .dataframe thead th {\n",
              "        text-align: right;\n",
              "    }\n",
              "</style>\n",
              "<table border=\"1\" class=\"dataframe\">\n",
              "  <thead>\n",
              "    <tr style=\"text-align: right;\">\n",
              "      <th></th>\n",
              "      <th></th>\n",
              "      <th>-60</th>\n",
              "      <th>60-85</th>\n",
              "      <th>85-</th>\n",
              "    </tr>\n",
              "  </thead>\n",
              "  <tbody>\n",
              "    <tr>\n",
              "      <th>1</th>\n",
              "      <td>서울</td>\n",
              "      <td>54</td>\n",
              "      <td>2</td>\n",
              "      <td>0</td>\n",
              "    </tr>\n",
              "    <tr>\n",
              "      <th>2</th>\n",
              "      <td>부산</td>\n",
              "      <td>577</td>\n",
              "      <td>735</td>\n",
              "      <td>142</td>\n",
              "    </tr>\n",
              "    <tr>\n",
              "      <th>3</th>\n",
              "      <td>대구</td>\n",
              "      <td>143</td>\n",
              "      <td>1437</td>\n",
              "      <td>44</td>\n",
              "    </tr>\n",
              "    <tr>\n",
              "      <th>4</th>\n",
              "      <td>대전</td>\n",
              "      <td>782</td>\n",
              "      <td>1</td>\n",
              "      <td>0</td>\n",
              "    </tr>\n",
              "  </tbody>\n",
              "</table>\n",
              "</div>"
            ],
            "text/plain": [
              "       -60  60-85  85-\n",
              "1  서울   54      2    0\n",
              "2  부산  577    735  142\n",
              "3  대구  143   1437   44\n",
              "4  대전  782      1    0"
            ]
          },
          "metadata": {
            "tags": []
          },
          "execution_count": 76
        }
      ]
    },
    {
      "cell_type": "code",
      "metadata": {
        "id": "VAb8HgkAtMz2",
        "colab": {
          "base_uri": "https://localhost:8080/"
        },
        "outputId": "0e5ea6d7-ec5c-441d-c29c-0c61aff4421f"
      },
      "source": [
        "#카테고리 형으로 바꿔주기\n",
        "citysample_pri = df2[['-60', '60-85', '85-']].astype('category')\n",
        "citysample_pri.dtypes"
      ],
      "execution_count": 77,
      "outputs": [
        {
          "output_type": "execute_result",
          "data": {
            "text/plain": [
              "-60      category\n",
              "60-85    category\n",
              "85-      category\n",
              "dtype: object"
            ]
          },
          "metadata": {
            "tags": []
          },
          "execution_count": 77
        }
      ]
    },
    {
      "cell_type": "code",
      "metadata": {
        "id": "-jMP3ZYJtW3P",
        "colab": {
          "base_uri": "https://localhost:8080/"
        },
        "outputId": "b998bad8-0cf9-4498-bdaf-01c3169b0d08"
      },
      "source": [
        "from scipy.stats import chi2_contingency\n",
        "\n",
        "print(chi2_contingency(citysample_pri)) # correction 파라미터가 True로 설정: Yates' correction 시행함 \n",
        "\n",
        "print(chi2_contingency(citysample_pri, correction = False))\n",
        "\n",
        "citysample2 = chi2_contingency(citysample_pri)\n",
        "citysample2"
      ],
      "execution_count": 78,
      "outputs": [
        {
          "output_type": "stream",
          "text": [
            "(2064.576731417199, 0.0, 6, array([[ 22.24559612,  31.09522594,   2.65917794],\n",
            "       [577.59101353, 807.36533061,  69.04365586],\n",
            "       [645.12228746, 901.76155221,  77.11616033],\n",
            "       [311.04110288, 434.77789124,  37.18100587]]))\n",
            "(2064.576731417199, 0.0, 6, array([[ 22.24559612,  31.09522594,   2.65917794],\n",
            "       [577.59101353, 807.36533061,  69.04365586],\n",
            "       [645.12228746, 901.76155221,  77.11616033],\n",
            "       [311.04110288, 434.77789124,  37.18100587]]))\n"
          ],
          "name": "stdout"
        },
        {
          "output_type": "execute_result",
          "data": {
            "text/plain": [
              "(2064.576731417199, 0.0, 6, array([[ 22.24559612,  31.09522594,   2.65917794],\n",
              "        [577.59101353, 807.36533061,  69.04365586],\n",
              "        [645.12228746, 901.76155221,  77.11616033],\n",
              "        [311.04110288, 434.77789124,  37.18100587]]))"
            ]
          },
          "metadata": {
            "tags": []
          },
          "execution_count": 78
        }
      ]
    },
    {
      "cell_type": "code",
      "metadata": {
        "id": "TVqeJil931r5",
        "colab": {
          "base_uri": "https://localhost:8080/"
        },
        "outputId": "2e0d5b2d-f42b-4d71-879e-f1004c79d2db"
      },
      "source": [
        "chi2 = chisquare(citysample2)\n",
        "chi2\n",
        "\n",
        "# p-value = 0\n",
        "# 귀무가설: 지역과 규모에 따른 미분양 수는 통계학적으로 유의미한 관계가 없다.\n",
        "# 대립가설: 지역과 규모에 따른 미분양 수가 통계학적으로 유의미한 관계가 있다.\n",
        "# p-value가 0.05보다 작으면 귀무가설을 지지하는 정도야 약해진다.\n",
        "# 결론: 지역과 규모에 따른 미분양 수는 독립적이지 않다.\n",
        "#      따라서, 규모와 지역에 따라 미분양 수 결과에 영향을 끼친다.\n",
        "# 대립가설 채택: 지역과 규모에 따른 미분양 수가 통계학적으로 유의미한 관계가 있다."
      ],
      "execution_count": 79,
      "outputs": [
        {
          "output_type": "stream",
          "text": [
            "/usr/local/lib/python3.7/dist-packages/numpy/core/_asarray.py:136: VisibleDeprecationWarning: Creating an ndarray from ragged nested sequences (which is a list-or-tuple of lists-or-tuples-or ndarrays with different lengths or shapes) is deprecated. If you meant to do this, you must specify 'dtype=object' when creating the ndarray\n",
            "  return array(a, dtype, copy=False, order=order, subok=True)\n"
          ],
          "name": "stderr"
        },
        {
          "output_type": "execute_result",
          "data": {
            "text/plain": [
              "Power_divergenceResult(statistic=array([[6055.04171303, 6012.78182895, 6150.66206944],\n",
              "       [4294.17866432, 3952.42734926, 5838.01925703],\n",
              "       [4175.6329191 , 3858.22606352, 5802.15878119],\n",
              "       [4939.89208187, 4601.89455374, 5984.05553266]]), pvalue=array([[0., 0., 0.],\n",
              "       [0., 0., 0.],\n",
              "       [0., 0., 0.],\n",
              "       [0., 0., 0.]]))"
            ]
          },
          "metadata": {
            "tags": []
          },
          "execution_count": 79
        }
      ]
    },
    {
      "cell_type": "markdown",
      "metadata": {
        "id": "Tf7XPpBP6YqX"
      },
      "source": [
        "### 4. 2번에 대해서 NumPy 를 사용하여 (Scipy를 사용하지 않고) $\\chi^2$ test 시행 후 2번의 결과와 비교해보세요. \n",
        "\n",
        "- `obs`, `exp`, `chi`라는 변수를 사용해야합니다.\n",
        "\n",
        "이 후 `chi2_contingency()`의 결과물과 비교해보세요"
      ]
    },
    {
      "cell_type": "code",
      "metadata": {
        "id": "OjFt0b1-wrFL"
      },
      "source": [
        "# 참고용\n",
        "\n",
        "# df_t = df.copy()\n",
        "# df_t = df_t.drop([''], 1)\n",
        "# df_t = df_t[['-60(공공)','60-85(공공)','85-(공공)', '-60(민간)', '60-85(민간)', '85-(민간)']].astype('category')\n",
        "# df_t.dtypes\n",
        "\n",
        "# obs 뽑아보기\n",
        "# obs = np.array([[0, 0, 0, 54, 2, 0],\n",
        "#                 [0, 0, 0, 577, 735, 142], \n",
        "#                 [0, 0, 0, 143, 1437, 44],\n",
        "#                 [0, 0, 0, 782, 1, 0]\n",
        "#                 ])\n",
        "# total_obs = np.sum(obs)\n",
        "# total_obs"
      ],
      "execution_count": null,
      "outputs": []
    },
    {
      "cell_type": "code",
      "metadata": {
        "id": "wFuY5C5Bzu0X",
        "colab": {
          "base_uri": "https://localhost:8080/"
        },
        "outputId": "921235b1-b7e9-4686-be19-a2c4ae22a1e4"
      },
      "source": [
        "# 직접 구하기\n",
        "obs = citysample\n",
        "\n",
        "exp = np.sum(obs) / 4 # [979.25, 979.25, 979.25, 979.25]\n",
        "\n",
        "chi = np.sum(np.power(obs - exp, 2) / exp) # chisquare statistics = 1564.4572\n",
        "\n",
        "squared = np.power(obs - exp, 2)\n",
        "print(chi)\n",
        "\n",
        "print(1 - stats.chi2.cdf(chi, df = 4 -1)) #pvalue : 0.0\n",
        "# 결과값 일치"
      ],
      "execution_count": 80,
      "outputs": [
        {
          "output_type": "stream",
          "text": [
            "1564.4572376818994\n",
            "0.0\n"
          ],
          "name": "stdout"
        }
      ]
    },
    {
      "cell_type": "markdown",
      "metadata": {
        "id": "a2BrKHq8m8AS"
      },
      "source": [
        "## 🔥 도전 과제\n",
        "\n",
        "아래 세가지를 다하면 됩니다.\n",
        "\n",
        "### 1. Function\n",
        "\n",
        "4번에서 사용한 one sample chisquare test를 함수의 형태로 변경하세요."
      ]
    },
    {
      "cell_type": "code",
      "metadata": {
        "id": "AntnuAkFm-JQ",
        "colab": {
          "base_uri": "https://localhost:8080/"
        },
        "outputId": "5a9e1c68-dea7-4473-96ec-d0d2627e228d"
      },
      "source": [
        "v1 = [18,22,20,15,23,22]\n",
        "v2 = [5,23,26,19,24,23]\n",
        "\n",
        "def myChisq(value):\n",
        "    \n",
        "    obs = np.array(value)\n",
        "    exp = np.sum(obs)/6\n",
        "    chi = np.sum(np.power(obs - exp, 2) / exp)\n",
        "    sqaured = np.power(obs - exp, 2)\n",
        "    pvalue = (1 - stats.chi2.cdf(chi, df = 6-1))\n",
        "    return chi, pvalue\n",
        "\n",
        "print(myChisq(v1)) \n",
        "\n",
        "# chisquare값과 pvalue를 출력해야합니다.\n",
        "\n",
        "print(myChisq(v2))"
      ],
      "execution_count": 81,
      "outputs": [
        {
          "output_type": "stream",
          "text": [
            "(2.3000000000000003, 0.8062668698851285)\n",
            "(14.8, 0.011251979028327308)\n"
          ],
          "name": "stdout"
        }
      ]
    },
    {
      "cell_type": "markdown",
      "metadata": {
        "id": "4ohsJhQUmEuS"
      },
      "source": [
        "### 2. ANOVA\n",
        "\n",
        "아래 링크를 참조하여 ANOVA 에 대한 글을 읽고\n",
        "\n",
        "<https://partrita.github.io/posts/ANOVA-python/>\n",
        "\n",
        "다음 `4개 그룹에 대해서 평균의 차이가 있는지`에 대한 가설 검정을 시행하세요.\n",
        "\n",
        "A : `38 33 35 92 76 97 88 41 11  9`\n",
        "\n",
        "B : `18 52 62 48 30 40 87 12 97 82`\n",
        "\n",
        "C :  `28 90  5 49 66 73 96 80  4 17`\n",
        "\n",
        "D : ` 8 99  4 12  7 64 18 10  9 20`\n",
        "\n"
      ]
    },
    {
      "cell_type": "code",
      "metadata": {
        "id": "DMebi5_4UaSn",
        "colab": {
          "base_uri": "https://localhost:8080/"
        },
        "outputId": "227f9897-c911-4464-9177-ee953211442c"
      },
      "source": [
        "import scipy.stats as stats\n",
        "import pandas as pd\n",
        "import urllib\n",
        "from statsmodels.formula.api import ols\n",
        "from statsmodels.stats.anova import anova_lm\n",
        "import matplotlib.pyplot as plt\n",
        "import numpy as np\n",
        "%matplotlib inline\n",
        "\n",
        "# DF anova\n",
        "anova = {\n",
        "        'A':[38,33,35,92,76,97,88,41,11,9],\n",
        "        'B':[18,52,62,48,30,40,87,12,97,82],\n",
        "        'C':[28,90,5,49,66,73,96,80,4,17],\n",
        "        'D':[8,99,4,12,7,64,18,10,9,20]\n",
        "         }\n",
        "\n",
        "# group 나누기\n",
        "group1 = anova['A']\n",
        "group2 = anova['B']\n",
        "group3 = anova['C']\n",
        "group4 = anova['D']\n",
        "\n",
        "# ANOVA Test\n",
        "F_statistic, pVal = stats.f_oneway(group1, group2, group3, group4)\n",
        "\n",
        "print(F_statistic, pVal)\n",
        "\n",
        "# p-value = 0.1792\n",
        "# 귀무가설: 4개 그룹에 대해서 평균의 차이가 없다.\n",
        "# 대립가설: 4개 그룹에 대해서 평균의 차이가 있다.\n",
        "# p-value가 0.05보다 작으면 귀무가설을 지지하는 정도야 약해진다.\n",
        "# 결론: 4개 그룹에 대해서 평균의 차이가 없다."
      ],
      "execution_count": 82,
      "outputs": [
        {
          "output_type": "stream",
          "text": [
            "1.7249594239128412 0.17920877113948797\n"
          ],
          "name": "stdout"
        }
      ]
    },
    {
      "cell_type": "markdown",
      "metadata": {
        "id": "cWmSdvBy8w4B"
      },
      "source": [
        "## 3. Sign Test\n",
        "\n",
        "아래 링크를 참조하여 Sign Test에 대한 글을 읽고\n",
        "\n",
        "<https://en.wikipedia.org/wiki/Sign_test>\n",
        "\n",
        "다음 데이터에서 두 그룹간에 차이가 있다에 대한 Sign Test의 과정과 결과를 설명하세요\n",
        "\n",
        "|A|B|\n",
        "|:-:|:-:|\n",
        "|142|138|\n",
        "|140|136|\n",
        "|144|147|\t\n",
        "|144|139|\t\n",
        "|142|143|\t\n",
        "|146|141|\t\n",
        "|149|143|\t\n",
        "|150|145|\t\n",
        "|142|136|\t\n",
        "|148|146|\t\n",
        "\n"
      ]
    },
    {
      "cell_type": "code",
      "metadata": {
        "colab": {
          "base_uri": "https://localhost:8080/"
        },
        "id": "qF_MyXF7ZCuq",
        "outputId": "0d2661db-466a-4f1f-fcc3-93dc453f0c63"
      },
      "source": [
        "from scipy.stats import wilcoxon\n",
        "\n",
        "# DF sign\n",
        "sign = {\n",
        "        'A':[142,140,144,144,142,146,149,150,142,148],\n",
        "        'B':[138,136,147,139,143,141,143,145,136,146]\n",
        "       }\n",
        "    \n",
        "#DF 나누기\n",
        "sign1 = sign['A']\n",
        "sign2 = sign['B']\n",
        "\n",
        "sign_w, sign_p = wilcoxon(sign1, sign2)\n",
        "\n",
        "print(w, p)\n",
        "\n",
        "# p-value = 0.01618\n",
        "# 귀무가설:  두 그룹간에 차이가 없다.\n",
        "# 대립가설:  두 그룹간에 차이가 있다.\n",
        "# p-value가 0.05보다 작으면 귀무가설을 지지하는 정도야 약해진다.\n",
        "# 결론: 두 그룹간에 차이가 없다."
      ],
      "execution_count": 83,
      "outputs": [
        {
          "output_type": "stream",
          "text": [
            "4.0 0.016184453851159696\n"
          ],
          "name": "stdout"
        }
      ]
    },
    {
      "cell_type": "code",
      "metadata": {
        "colab": {
          "base_uri": "https://localhost:8080/"
        },
        "id": "R77y9GNYhjjY",
        "outputId": "10ea93c0-909d-46a8-f79e-333e56e2391f"
      },
      "source": [
        "obs"
      ],
      "execution_count": 17,
      "outputs": [
        {
          "output_type": "execute_result",
          "data": {
            "text/plain": [
              "[56, 1454, 1624, 783]"
            ]
          },
          "metadata": {
            "tags": []
          },
          "execution_count": 17
        }
      ]
    },
    {
      "cell_type": "code",
      "metadata": {
        "colab": {
          "base_uri": "https://localhost:8080/"
        },
        "id": "cfNsUz8Lhl-J",
        "outputId": "487ea29c-9d49-4031-985a-26b7a2ea0ac9"
      },
      "source": [
        "exp"
      ],
      "execution_count": 18,
      "outputs": [
        {
          "output_type": "execute_result",
          "data": {
            "text/plain": [
              "979.25"
            ]
          },
          "metadata": {
            "tags": []
          },
          "execution_count": 18
        }
      ]
    },
    {
      "cell_type": "code",
      "metadata": {
        "colab": {
          "base_uri": "https://localhost:8080/"
        },
        "id": "6bfgvPRIhnqU",
        "outputId": "f9464635-680a-4240-d698-01ee84cc9bf7"
      },
      "source": [
        "chi"
      ],
      "execution_count": 20,
      "outputs": [
        {
          "output_type": "execute_result",
          "data": {
            "text/plain": [
              "1564.4572376818994"
            ]
          },
          "metadata": {
            "tags": []
          },
          "execution_count": 20
        }
      ]
    }
  ]
}